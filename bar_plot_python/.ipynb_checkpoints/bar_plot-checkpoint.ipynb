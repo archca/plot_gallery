{
 "cells": [
  {
   "cell_type": "markdown",
   "metadata": {},
   "source": [
    "# Create a bar plot in Python\n",
    "by **Julian Laabs**\n",
    "\n",
    "This is a small and fast example to create a bar plot with the data structure and data analysis tool of [pandas](https://pandas.pydata.org/). And it is a first try for me to design a small tuorial in [JupyterLab](https://github.com/jupyterlab). I assume here that Python, etc. is already installed. If not, check out the Python Distribution [Anaconda](https://www.anaconda.com/distribution/) and follow the install instructions there. Then you are ready to repeat the following lines of code and you should get the same results. "
   ]
  },
  {
   "cell_type": "markdown",
   "metadata": {},
   "source": [
    "## Import pandas and load a CSV file\n",
    "\n",
    "Import the pandas package straightforward and rename it to pd. The only purpose behind the renaming is that one does not need to write the package's full name when calling specific functions."
   ]
  },
  {
   "cell_type": "code",
   "execution_count": 1,
   "metadata": {},
   "outputs": [],
   "source": [
    "import pandas as pd"
   ]
  },
  {
   "cell_type": "markdown",
   "metadata": {},
   "source": [
    "As [pandas.read_csv()](https://pandas.pydata.org/pandas-docs/stable/reference/api/pandas.read_csv.html) will create an own index for an imported dataframe, we specify the index column as the grad_ID column of our dataset."
   ]
  },
  {
   "cell_type": "code",
   "execution_count": 2,
   "metadata": {},
   "outputs": [
    {
     "data": {
      "text/html": [
       "<div>\n",
       "<style scoped>\n",
       "    .dataframe tbody tr th:only-of-type {\n",
       "        vertical-align: middle;\n",
       "    }\n",
       "\n",
       "    .dataframe tbody tr th {\n",
       "        vertical-align: top;\n",
       "    }\n",
       "\n",
       "    .dataframe thead th {\n",
       "        text-align: right;\n",
       "    }\n",
       "</style>\n",
       "<table border=\"1\" class=\"dataframe\">\n",
       "  <thead>\n",
       "    <tr style=\"text-align: right;\">\n",
       "      <th></th>\n",
       "      <th>bestattungs_ID</th>\n",
       "      <th>grabnr_literatur</th>\n",
       "      <th>anzahl_bestattungen</th>\n",
       "      <th>laenge_grabgrube</th>\n",
       "      <th>breite_grabgrube</th>\n",
       "      <th>tiefe_grabgrube</th>\n",
       "      <th>grabbau</th>\n",
       "      <th>stoerung/erhaltung</th>\n",
       "      <th>biologisches_geschlecht</th>\n",
       "      <th>alter</th>\n",
       "      <th>...</th>\n",
       "      <th>zahn_Kleinsaeuger</th>\n",
       "      <th>zahn_Mensch</th>\n",
       "      <th>zahn_Baer</th>\n",
       "      <th>zahn_unbestimmt</th>\n",
       "      <th>knochen_Vogel</th>\n",
       "      <th>knochen_Bieber</th>\n",
       "      <th>knochen_unbestimmt</th>\n",
       "      <th>hufe</th>\n",
       "      <th>figur</th>\n",
       "      <th>schildkroetenpanzer</th>\n",
       "    </tr>\n",
       "    <tr>\n",
       "      <th>grab_ID</th>\n",
       "      <th></th>\n",
       "      <th></th>\n",
       "      <th></th>\n",
       "      <th></th>\n",
       "      <th></th>\n",
       "      <th></th>\n",
       "      <th></th>\n",
       "      <th></th>\n",
       "      <th></th>\n",
       "      <th></th>\n",
       "      <th></th>\n",
       "      <th></th>\n",
       "      <th></th>\n",
       "      <th></th>\n",
       "      <th></th>\n",
       "      <th></th>\n",
       "      <th></th>\n",
       "      <th></th>\n",
       "      <th></th>\n",
       "      <th></th>\n",
       "      <th></th>\n",
       "    </tr>\n",
       "  </thead>\n",
       "  <tbody>\n",
       "    <tr>\n",
       "      <td>1</td>\n",
       "      <td>1</td>\n",
       "      <td>Grab 1</td>\n",
       "      <td>1</td>\n",
       "      <td>NaN</td>\n",
       "      <td>0.45</td>\n",
       "      <td>0.30</td>\n",
       "      <td>NaN</td>\n",
       "      <td>strak gestoert</td>\n",
       "      <td>unbest</td>\n",
       "      <td>erwachsen</td>\n",
       "      <td>...</td>\n",
       "      <td>0</td>\n",
       "      <td>0</td>\n",
       "      <td>0</td>\n",
       "      <td>0</td>\n",
       "      <td>0</td>\n",
       "      <td>0</td>\n",
       "      <td>0</td>\n",
       "      <td>0</td>\n",
       "      <td>0</td>\n",
       "      <td>0</td>\n",
       "    </tr>\n",
       "    <tr>\n",
       "      <td>2</td>\n",
       "      <td>2</td>\n",
       "      <td>Grab 2</td>\n",
       "      <td>1</td>\n",
       "      <td>1.8</td>\n",
       "      <td>0.40</td>\n",
       "      <td>0.35</td>\n",
       "      <td>NaN</td>\n",
       "      <td>NaN</td>\n",
       "      <td>m</td>\n",
       "      <td>erwachsen</td>\n",
       "      <td>...</td>\n",
       "      <td>0</td>\n",
       "      <td>0</td>\n",
       "      <td>0</td>\n",
       "      <td>0</td>\n",
       "      <td>0</td>\n",
       "      <td>0</td>\n",
       "      <td>0</td>\n",
       "      <td>0</td>\n",
       "      <td>0</td>\n",
       "      <td>0</td>\n",
       "    </tr>\n",
       "    <tr>\n",
       "      <td>3</td>\n",
       "      <td>3</td>\n",
       "      <td>Grab 3</td>\n",
       "      <td>1</td>\n",
       "      <td>NaN</td>\n",
       "      <td>0.50</td>\n",
       "      <td>0.40</td>\n",
       "      <td>kohleartige Einfuellung</td>\n",
       "      <td>wenig gestoert</td>\n",
       "      <td>unbest</td>\n",
       "      <td>erwachsen</td>\n",
       "      <td>...</td>\n",
       "      <td>0</td>\n",
       "      <td>0</td>\n",
       "      <td>0</td>\n",
       "      <td>0</td>\n",
       "      <td>0</td>\n",
       "      <td>0</td>\n",
       "      <td>0</td>\n",
       "      <td>0</td>\n",
       "      <td>0</td>\n",
       "      <td>0</td>\n",
       "    </tr>\n",
       "    <tr>\n",
       "      <td>4</td>\n",
       "      <td>4</td>\n",
       "      <td>Grab 4</td>\n",
       "      <td>1</td>\n",
       "      <td>1</td>\n",
       "      <td>0.80</td>\n",
       "      <td>0.45</td>\n",
       "      <td>kohleartige Einfuellung</td>\n",
       "      <td>strak gestoert</td>\n",
       "      <td>unbest</td>\n",
       "      <td>erwachsen</td>\n",
       "      <td>...</td>\n",
       "      <td>0</td>\n",
       "      <td>0</td>\n",
       "      <td>0</td>\n",
       "      <td>0</td>\n",
       "      <td>0</td>\n",
       "      <td>0</td>\n",
       "      <td>0</td>\n",
       "      <td>0</td>\n",
       "      <td>0</td>\n",
       "      <td>0</td>\n",
       "    </tr>\n",
       "    <tr>\n",
       "      <td>5</td>\n",
       "      <td>5</td>\n",
       "      <td>Grab 5</td>\n",
       "      <td>1</td>\n",
       "      <td>NaN</td>\n",
       "      <td>0.30</td>\n",
       "      <td>0.07</td>\n",
       "      <td>schwarze Kulturerde auf der Grabsohle</td>\n",
       "      <td>teilweise gestoert</td>\n",
       "      <td>unbest</td>\n",
       "      <td>infans</td>\n",
       "      <td>...</td>\n",
       "      <td>0</td>\n",
       "      <td>0</td>\n",
       "      <td>0</td>\n",
       "      <td>0</td>\n",
       "      <td>0</td>\n",
       "      <td>0</td>\n",
       "      <td>0</td>\n",
       "      <td>0</td>\n",
       "      <td>0</td>\n",
       "      <td>0</td>\n",
       "    </tr>\n",
       "  </tbody>\n",
       "</table>\n",
       "<p>5 rows × 52 columns</p>\n",
       "</div>"
      ],
      "text/plain": [
       "         bestattungs_ID grabnr_literatur anzahl_bestattungen laenge_grabgrube  \\\n",
       "grab_ID                                                                         \n",
       "1                     1           Grab 1                   1              NaN   \n",
       "2                     2           Grab 2                   1              1.8   \n",
       "3                     3           Grab 3                   1              NaN   \n",
       "4                     4           Grab 4                   1                1   \n",
       "5                     5           Grab 5                   1              NaN   \n",
       "\n",
       "         breite_grabgrube  tiefe_grabgrube  \\\n",
       "grab_ID                                      \n",
       "1                    0.45             0.30   \n",
       "2                    0.40             0.35   \n",
       "3                    0.50             0.40   \n",
       "4                    0.80             0.45   \n",
       "5                    0.30             0.07   \n",
       "\n",
       "                                       grabbau  stoerung/erhaltung  \\\n",
       "grab_ID                                                              \n",
       "1                                          NaN      strak gestoert   \n",
       "2                                          NaN                 NaN   \n",
       "3                      kohleartige Einfuellung      wenig gestoert   \n",
       "4                      kohleartige Einfuellung      strak gestoert   \n",
       "5        schwarze Kulturerde auf der Grabsohle  teilweise gestoert   \n",
       "\n",
       "        biologisches_geschlecht      alter  ... zahn_Kleinsaeuger zahn_Mensch  \\\n",
       "grab_ID                                     ...                                 \n",
       "1                        unbest  erwachsen  ...                 0           0   \n",
       "2                             m  erwachsen  ...                 0           0   \n",
       "3                        unbest  erwachsen  ...                 0           0   \n",
       "4                        unbest  erwachsen  ...                 0           0   \n",
       "5                        unbest     infans  ...                 0           0   \n",
       "\n",
       "        zahn_Baer zahn_unbestimmt knochen_Vogel knochen_Bieber  \\\n",
       "grab_ID                                                          \n",
       "1               0               0             0              0   \n",
       "2               0               0             0              0   \n",
       "3               0               0             0              0   \n",
       "4               0               0             0              0   \n",
       "5               0               0             0              0   \n",
       "\n",
       "        knochen_unbestimmt hufe figur  schildkroetenpanzer  \n",
       "grab_ID                                                     \n",
       "1                        0    0     0                    0  \n",
       "2                        0    0     0                    0  \n",
       "3                        0    0     0                    0  \n",
       "4                        0    0     0                    0  \n",
       "5                        0    0     0                    0  \n",
       "\n",
       "[5 rows x 52 columns]"
      ]
     },
     "execution_count": 2,
     "metadata": {},
     "output_type": "execute_result"
    }
   ],
   "source": [
    "df = pd.read_csv(\"Zvejnieki/dataset_Zvejnieki.csv\", index_col = 'grab_ID')\n",
    "df.head()"
   ]
  },
  {
   "cell_type": "markdown",
   "metadata": {},
   "source": [
    "## Create a barplot\n",
    "\n",
    "Pandas has inbuild functions to plot data from dataframes ([pandas.DataFrame.plot](https://pandas.pydata.org/pandas-docs/version/0.23.4/generated/pandas.DataFrame.plot.html)). But beforehand we need to prepare the data a little more. In our case we would like to count the appearances of the biological sexes of the deceased in our dataset. Therefore, we use the [pandas.Series.value_counts](https://pandas.pydata.org/pandas-docs/stable/reference/api/pandas.Series.value_counts.html) function on the column 'biologisches_geschlecht' to do so. "
   ]
  },
  {
   "cell_type": "code",
   "execution_count": 3,
   "metadata": {},
   "outputs": [
    {
     "data": {
      "text/plain": [
       "unbest    111\n",
       "m          22\n",
       "w           9\n",
       "m?          2\n",
       "w?          1\n",
       "Name: biologisches_geschlecht, dtype: int64"
      ]
     },
     "execution_count": 3,
     "metadata": {},
     "output_type": "execute_result"
    }
   ],
   "source": [
    "df['biologisches_geschlecht'].value_counts()"
   ]
  },
  {
   "cell_type": "markdown",
   "metadata": {},
   "source": [
    "Than we can plot directly."
   ]
  },
  {
   "cell_type": "code",
   "execution_count": 5,
   "metadata": {},
   "outputs": [
    {
     "data": {
      "text/plain": [
       "<matplotlib.axes._subplots.AxesSubplot at 0x221705c4b08>"
      ]
     },
     "execution_count": 5,
     "metadata": {},
     "output_type": "execute_result"
    },
    {
     "data": {
      "image/png": "[encoded data removed]",
      "text/plain": [
       "<Figure size 432x288 with 1 Axes>"
      ]
     },
     "metadata": {
      "needs_background": "light"
     },
     "output_type": "display_data"
    }
   ],
   "source": [
    "df['biologisches_geschlecht'].value_counts().plot(kind='bar')"
   ]
  },
  {
   "cell_type": "markdown",
   "metadata": {},
   "source": [
    "## Plot the data (more respecable)\n",
    "\n",
    "The [pandas.DataFrame.plot](https://pandas.pydata.org/pandas-docs/version/0.23.4/generated/pandas.DataFrame.plot.html) function has many arguments one can use to change the appearance of the data. We will use only some of them and you can find those an more in this [user guide](https://pandas.pydata.org/pandas-docs/stable/user_guide/visualization.html).\n",
    "\n",
    "* figsize=(width, hight) determins the width and heigt of teh fiure in inch\n",
    "* edgecolor will draw a line around the bars, what sets a nice contrast\n",
    "* alpha sets the transparancy of the bars and the edgecolor\n",
    "* rot rotates the x-axis labels by a given angle\n",
    "* fontsize de-/increases the size of the x- and y-axis labels"
   ]
  },
  {
   "cell_type": "code",
   "execution_count": 6,
   "metadata": {},
   "outputs": [
    {
     "data": {
      "text/plain": [
       "<matplotlib.axes._subplots.AxesSubplot at 0x22170629648>"
      ]
     },
     "execution_count": 6,
     "metadata": {},
     "output_type": "execute_result"
    },
    {
     "data": {
      "image/png": "[encoded data removed]",
      "text/plain": [
       "<Figure size 720x432 with 1 Axes>"
      ]
     },
     "metadata": {
      "needs_background": "light"
     },
     "output_type": "display_data"
    }
   ],
   "source": [
    "df['biologisches_geschlecht'].value_counts().plot(kind='bar', figsize=(10, 6), edgecolor = 'black', alpha = 0.75, rot = 45.0, fontsize = 12)"
   ]
  },
  {
   "cell_type": "markdown",
   "metadata": {},
   "source": [
    "As the labels m, w, etc. are not really meaningful we should change them to proper words. We will there for overwrite specific values of column cells by a new value. This can also be done in the CSV spreadsheet directly. "
   ]
  },
  {
   "cell_type": "code",
   "execution_count": 7,
   "metadata": {},
   "outputs": [],
   "source": [
    "df.loc[df.biologisches_geschlecht == 'unbest', 'biologisches_geschlecht'] = 'indifferent'\n",
    "df.loc[df.biologisches_geschlecht == 'm', 'biologisches_geschlecht'] = 'male'\n",
    "df.loc[df.biologisches_geschlecht == 'w', 'biologisches_geschlecht'] = 'female'\n",
    "df.loc[df.biologisches_geschlecht == 'm?', 'biologisches_geschlecht'] = ' uncertain male'\n",
    "df.loc[df.biologisches_geschlecht == 'w?', 'biologisches_geschlecht'] = 'uncertain female'"
   ]
  },
  {
   "cell_type": "markdown",
   "metadata": {},
   "source": [
    "And than plot again."
   ]
  },
  {
   "cell_type": "code",
   "execution_count": 8,
   "metadata": {},
   "outputs": [
    {
     "data": {
      "text/plain": [
       "<matplotlib.axes._subplots.AxesSubplot at 0x221706d7548>"
      ]
     },
     "execution_count": 8,
     "metadata": {},
     "output_type": "execute_result"
    },
    {
     "data": {
      "image/png": "[encoded data removed]",
      "text/plain": [
       "<Figure size 720x432 with 1 Axes>"
      ]
     },
     "metadata": {
      "needs_background": "light"
     },
     "output_type": "display_data"
    }
   ],
   "source": [
    "df['biologisches_geschlecht'].value_counts().plot(kind='bar', figsize=(10, 6), edgecolor = 'black', alpha = 0.75, rot = 0.0, fontsize = 12)"
   ]
  },
  {
   "cell_type": "markdown",
   "metadata": {},
   "source": [
    "One last thing, to change the appearance of the plot in a fast way there is a convieniet option given by the package [matplotlib](https://matplotlib.org/). There are several plot styles which can be chosen from and will change the overall appearance of the plot. "
   ]
  },
  {
   "cell_type": "code",
   "execution_count": 9,
   "metadata": {},
   "outputs": [
    {
     "data": {
      "text/plain": [
       "['bmh',\n",
       " 'classic',\n",
       " 'dark_background',\n",
       " 'fast',\n",
       " 'fivethirtyeight',\n",
       " 'ggplot',\n",
       " 'grayscale',\n",
       " 'seaborn-bright',\n",
       " 'seaborn-colorblind',\n",
       " 'seaborn-dark-palette',\n",
       " 'seaborn-dark',\n",
       " 'seaborn-darkgrid',\n",
       " 'seaborn-deep',\n",
       " 'seaborn-muted',\n",
       " 'seaborn-notebook',\n",
       " 'seaborn-paper',\n",
       " 'seaborn-pastel',\n",
       " 'seaborn-poster',\n",
       " 'seaborn-talk',\n",
       " 'seaborn-ticks',\n",
       " 'seaborn-white',\n",
       " 'seaborn-whitegrid',\n",
       " 'seaborn',\n",
       " 'Solarize_Light2',\n",
       " 'tableau-colorblind10',\n",
       " '_classic_test']"
      ]
     },
     "execution_count": 9,
     "metadata": {},
     "output_type": "execute_result"
    }
   ],
   "source": [
    "import matplotlib.pyplot as plt\n",
    "\n",
    "plt.style.available"
   ]
  },
  {
   "cell_type": "markdown",
   "metadata": {},
   "source": [
    "We can call one of those styles and perform the plotting again to see what happens."
   ]
  },
  {
   "cell_type": "code",
   "execution_count": 10,
   "metadata": {},
   "outputs": [
    {
     "data": {
      "text/plain": [
       "<matplotlib.axes._subplots.AxesSubplot at 0x2217087f848>"
      ]
     },
     "execution_count": 10,
     "metadata": {},
     "output_type": "execute_result"
    },
    {
     "data": {
      "image/png": "[encoded data removed]",
      "text/plain": [
       "<Figure size 720x432 with 1 Axes>"
      ]
     },
     "metadata": {},
     "output_type": "display_data"
    }
   ],
   "source": [
    "plt.style.use('ggplot')\n",
    "\n",
    "df['biologisches_geschlecht'].value_counts().plot(kind='bar', figsize=(10, 6), edgecolor = 'black', alpha = 0.75, rot = 0.0, fontsize = 12)"
   ]
  },
  {
   "cell_type": "markdown",
   "metadata": {},
   "source": [
    "Or another one."
   ]
  },
  {
   "cell_type": "code",
   "execution_count": 11,
   "metadata": {},
   "outputs": [
    {
     "data": {
      "text/plain": [
       "<matplotlib.axes._subplots.AxesSubplot at 0x22170772f88>"
      ]
     },
     "execution_count": 11,
     "metadata": {},
     "output_type": "execute_result"
    },
    {
     "data": {
      "image/png": "[encoded data removed]",
      "text/plain": [
       "<Figure size 720x432 with 1 Axes>"
      ]
     },
     "metadata": {},
     "output_type": "display_data"
    }
   ],
   "source": [
    "plt.style.use('dark_background')\n",
    "\n",
    "df['biologisches_geschlecht'].value_counts().plot(kind='bar', figsize=(10, 6), edgecolor = 'black', alpha = 0.75, rot = 0.0, fontsize = 12)"
   ]
  },
  {
   "cell_type": "markdown",
   "metadata": {},
   "source": [
    "This should be all. May try creating a bar plot with another column of the data set."
   ]
  }
 ],
 "metadata": {
  "kernelspec": {
   "display_name": "Python 3",
   "language": "python",
   "name": "python3"
  },
  "language_info": {
   "codemirror_mode": {
    "name": "ipython",
    "version": 3
   },
   "file_extension": ".py",
   "mimetype": "text/x-python",
   "name": "python",
   "nbconvert_exporter": "python",
   "pygments_lexer": "ipython3",
   "version": "3.7.4"
  }
 },
 "nbformat": 4,
 "nbformat_minor": 4
}
